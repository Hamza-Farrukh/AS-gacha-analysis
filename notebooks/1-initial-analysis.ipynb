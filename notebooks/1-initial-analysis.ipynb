{
 "cells": [
  {
   "cell_type": "markdown",
   "id": "f0e7bec9",
   "metadata": {},
   "source": [
    "## Goals\n",
    "- Clean the data to make it more useful\n",
    "- Predict Armor Gacha banners"
   ]
  },
  {
   "cell_type": "markdown",
   "id": "df0161ff",
   "metadata": {},
   "source": [
    "## Imports"
   ]
  },
  {
   "cell_type": "code",
   "execution_count": 1,
   "id": "bd6a0078",
   "metadata": {},
   "outputs": [],
   "source": [
    "# Basic\n",
    "import numpy as np\n",
    "import pandas as pd\n",
    "import matplotlib.pyplot as plt\n",
    "import seaborn as sns\n",
    "\n",
    "# Utilities\n",
    "import os\n",
    "\n",
    "# Notebook Utilities\n",
    "%matplotlib inline"
   ]
  },
  {
   "cell_type": "markdown",
   "id": "f9ed2683",
   "metadata": {},
   "source": [
    "## Functions"
   ]
  },
  {
   "cell_type": "code",
   "execution_count": 2,
   "id": "e92169eb",
   "metadata": {},
   "outputs": [],
   "source": [
    "# Function which seperates feature types\n",
    "def data_seperator(data, depend):\n",
    "    # Stores dependant variable\n",
    "    data_depend = data[depend]\n",
    "    data = data.drop(depend, axis=1)\n",
    "    \n",
    "    # Stores categorical features\n",
    "    select = [data.columns[i] for i in np.where(data.dtypes == 'O')[0]]\n",
    "    data_categ = pd.DataFrame(data[select])\n",
    "    \n",
    "    # Stores all numerical features\n",
    "    data_num = data.drop(select, axis=1)\n",
    "    \n",
    "    # Seperating time features from numerical features\n",
    "    select = [i for i in data_num.columns if 'year' in i.lower() or 'yr' in i.lower() or 'day' in i or 'week' in i.lower()]\n",
    "    data_time = pd.DataFrame(data_num[select])\n",
    "    data_num = data_num.drop(select, axis=1)\n",
    "    \n",
    "    # Seperating discrete and continuous features\n",
    "    select = [feature for feature in data_num if len(data_num[feature].unique()) < 10]\n",
    "    data_discrete = pd.DataFrame(data_num[select])\n",
    "    data_continuous = data_num.drop(select, axis=1)\n",
    "    \n",
    "    # Returning the features\n",
    "    return data_num, data_discrete, data_continuous, data_categ, data_time, data_depend"
   ]
  },
  {
   "cell_type": "markdown",
   "id": "0205b241",
   "metadata": {},
   "source": [
    "## Dataset Information\n",
    "I scraped the banners info from Alchemia Story official site.\n",
    "\n",
    "- Source: https://en.alchemiastory.jp/information/?page=1&type_code=notice"
   ]
  },
  {
   "cell_type": "markdown",
   "id": "9bba7ce5",
   "metadata": {},
   "source": [
    "## Working Directory"
   ]
  },
  {
   "cell_type": "code",
   "execution_count": 3,
   "id": "d8179cad",
   "metadata": {},
   "outputs": [],
   "source": [
    "old_path = os.getcwd()\n",
    "os.chdir('..')\n",
    "path = os.getcwd()"
   ]
  },
  {
   "cell_type": "markdown",
   "id": "215f7057",
   "metadata": {},
   "source": [
    "## Reading Data"
   ]
  },
  {
   "cell_type": "code",
   "execution_count": 4,
   "id": "37881cf5",
   "metadata": {},
   "outputs": [
    {
     "data": {
      "text/html": [
       "<div>\n",
       "<style scoped>\n",
       "    .dataframe tbody tr th:only-of-type {\n",
       "        vertical-align: middle;\n",
       "    }\n",
       "\n",
       "    .dataframe tbody tr th {\n",
       "        vertical-align: top;\n",
       "    }\n",
       "\n",
       "    .dataframe thead th {\n",
       "        text-align: right;\n",
       "    }\n",
       "</style>\n",
       "<table border=\"1\" class=\"dataframe\">\n",
       "  <thead>\n",
       "    <tr style=\"text-align: right;\">\n",
       "      <th></th>\n",
       "      <th>Gacha_Name</th>\n",
       "      <th>Date</th>\n",
       "    </tr>\n",
       "  </thead>\n",
       "  <tbody>\n",
       "    <tr>\n",
       "      <th>0</th>\n",
       "      <td>Battle on Board Gacha</td>\n",
       "      <td>2022-10-14</td>\n",
       "    </tr>\n",
       "    <tr>\n",
       "      <th>1</th>\n",
       "      <td>Heart Labyrinth Gacha</td>\n",
       "      <td>2022-10-14</td>\n",
       "    </tr>\n",
       "    <tr>\n",
       "      <th>2</th>\n",
       "      <td>Increases MDEF!\"Sorcerer Student Council Gacha...</td>\n",
       "      <td>2022-10-14</td>\n",
       "    </tr>\n",
       "    <tr>\n",
       "      <th>3</th>\n",
       "      <td>Step-up style \"Sorcerer Student Council Gacha\"...</td>\n",
       "      <td>2022-10-14</td>\n",
       "    </tr>\n",
       "    <tr>\n",
       "      <th>4</th>\n",
       "      <td>Nightmare Gacha</td>\n",
       "      <td>2022-10-13</td>\n",
       "    </tr>\n",
       "  </tbody>\n",
       "</table>\n",
       "</div>"
      ],
      "text/plain": [
       "                                          Gacha_Name        Date\n",
       "0                              Battle on Board Gacha  2022-10-14\n",
       "1                              Heart Labyrinth Gacha  2022-10-14\n",
       "2  Increases MDEF!\"Sorcerer Student Council Gacha...  2022-10-14\n",
       "3  Step-up style \"Sorcerer Student Council Gacha\"...  2022-10-14\n",
       "4                                    Nightmare Gacha  2022-10-13"
      ]
     },
     "execution_count": 4,
     "metadata": {},
     "output_type": "execute_result"
    }
   ],
   "source": [
    "data = pd.read_csv(f'{path}/data/raw/train.csv')\n",
    "data.head()"
   ]
  },
  {
   "cell_type": "markdown",
   "id": "ad1865b7",
   "metadata": {},
   "source": [
    "## Data Information"
   ]
  },
  {
   "cell_type": "code",
   "execution_count": 5,
   "id": "24f187b9",
   "metadata": {},
   "outputs": [
    {
     "name": "stdout",
     "output_type": "stream",
     "text": [
      "<class 'pandas.core.frame.DataFrame'>\n",
      "RangeIndex: 1540 entries, 0 to 1539\n",
      "Data columns (total 2 columns):\n",
      " #   Column      Non-Null Count  Dtype \n",
      "---  ------      --------------  ----- \n",
      " 0   Gacha_Name  1540 non-null   object\n",
      " 1   Date        1540 non-null   object\n",
      "dtypes: object(2)\n",
      "memory usage: 24.2+ KB\n"
     ]
    }
   ],
   "source": [
    "data.info()"
   ]
  },
  {
   "cell_type": "markdown",
   "id": "d740f6e5",
   "metadata": {},
   "source": [
    "## Separating the data\n",
    "Seperated the data into different variables for ease of access."
   ]
  },
  {
   "cell_type": "code",
   "execution_count": 6,
   "id": "9d6f89df",
   "metadata": {},
   "outputs": [],
   "source": [
    "data_num, data_discrete, data_continuous, data_categ, data_time, data_depend = data_seperator(data, 'Gacha_Name')"
   ]
  },
  {
   "cell_type": "markdown",
   "id": "78493beb",
   "metadata": {},
   "source": [
    "## Data Description"
   ]
  },
  {
   "cell_type": "code",
   "execution_count": 7,
   "id": "422ec206",
   "metadata": {},
   "outputs": [
    {
     "data": {
      "text/html": [
       "<div>\n",
       "<style scoped>\n",
       "    .dataframe tbody tr th:only-of-type {\n",
       "        vertical-align: middle;\n",
       "    }\n",
       "\n",
       "    .dataframe tbody tr th {\n",
       "        vertical-align: top;\n",
       "    }\n",
       "\n",
       "    .dataframe thead th {\n",
       "        text-align: right;\n",
       "    }\n",
       "</style>\n",
       "<table border=\"1\" class=\"dataframe\">\n",
       "  <thead>\n",
       "    <tr style=\"text-align: right;\">\n",
       "      <th></th>\n",
       "      <th>Gacha_Name</th>\n",
       "      <th>Date</th>\n",
       "    </tr>\n",
       "  </thead>\n",
       "  <tbody>\n",
       "    <tr>\n",
       "      <th>count</th>\n",
       "      <td>1540</td>\n",
       "      <td>1540</td>\n",
       "    </tr>\n",
       "    <tr>\n",
       "      <th>unique</th>\n",
       "      <td>1253</td>\n",
       "      <td>792</td>\n",
       "    </tr>\n",
       "    <tr>\n",
       "      <th>top</th>\n",
       "      <td>Expansion items are now on time-sale!</td>\n",
       "      <td>2022-08-20</td>\n",
       "    </tr>\n",
       "    <tr>\n",
       "      <th>freq</th>\n",
       "      <td>17</td>\n",
       "      <td>15</td>\n",
       "    </tr>\n",
       "  </tbody>\n",
       "</table>\n",
       "</div>"
      ],
      "text/plain": [
       "                                   Gacha_Name        Date\n",
       "count                                    1540        1540\n",
       "unique                                   1253         792\n",
       "top     Expansion items are now on time-sale!  2022-08-20\n",
       "freq                                       17          15"
      ]
     },
     "execution_count": 7,
     "metadata": {},
     "output_type": "execute_result"
    }
   ],
   "source": [
    "data.describe()"
   ]
  },
  {
   "cell_type": "code",
   "execution_count": 8,
   "id": "83f702c7",
   "metadata": {},
   "outputs": [
    {
     "data": {
      "text/plain": [
       "Index(['Gacha_Name', 'Date'], dtype='object')"
      ]
     },
     "execution_count": 8,
     "metadata": {},
     "output_type": "execute_result"
    }
   ],
   "source": [
    "data.columns"
   ]
  },
  {
   "cell_type": "code",
   "execution_count": 9,
   "id": "23c4de21",
   "metadata": {},
   "outputs": [],
   "source": [
    "data['Year'] = data.Date.str[0:4]"
   ]
  },
  {
   "cell_type": "code",
   "execution_count": 10,
   "id": "4cd34465",
   "metadata": {},
   "outputs": [],
   "source": [
    "data['Month'] = data.Date.str[5:7]"
   ]
  },
  {
   "cell_type": "code",
   "execution_count": 11,
   "id": "adc8201f",
   "metadata": {},
   "outputs": [],
   "source": [
    "data['Day'] = data.Date.str[8:]"
   ]
  },
  {
   "cell_type": "code",
   "execution_count": 12,
   "id": "5fdd7aa8",
   "metadata": {},
   "outputs": [],
   "source": [
    "data = data.drop('Date', axis=1)"
   ]
  },
  {
   "cell_type": "code",
   "execution_count": 13,
   "id": "0961b077",
   "metadata": {},
   "outputs": [
    {
     "data": {
      "text/html": [
       "<div>\n",
       "<style scoped>\n",
       "    .dataframe tbody tr th:only-of-type {\n",
       "        vertical-align: middle;\n",
       "    }\n",
       "\n",
       "    .dataframe tbody tr th {\n",
       "        vertical-align: top;\n",
       "    }\n",
       "\n",
       "    .dataframe thead th {\n",
       "        text-align: right;\n",
       "    }\n",
       "</style>\n",
       "<table border=\"1\" class=\"dataframe\">\n",
       "  <thead>\n",
       "    <tr style=\"text-align: right;\">\n",
       "      <th></th>\n",
       "      <th>Gacha_Name</th>\n",
       "      <th>Year</th>\n",
       "      <th>Month</th>\n",
       "      <th>Day</th>\n",
       "    </tr>\n",
       "  </thead>\n",
       "  <tbody>\n",
       "    <tr>\n",
       "      <th>0</th>\n",
       "      <td>Battle on Board Gacha</td>\n",
       "      <td>2022</td>\n",
       "      <td>10</td>\n",
       "      <td>14</td>\n",
       "    </tr>\n",
       "    <tr>\n",
       "      <th>1</th>\n",
       "      <td>Heart Labyrinth Gacha</td>\n",
       "      <td>2022</td>\n",
       "      <td>10</td>\n",
       "      <td>14</td>\n",
       "    </tr>\n",
       "    <tr>\n",
       "      <th>2</th>\n",
       "      <td>Increases MDEF!\"Sorcerer Student Council Gacha...</td>\n",
       "      <td>2022</td>\n",
       "      <td>10</td>\n",
       "      <td>14</td>\n",
       "    </tr>\n",
       "    <tr>\n",
       "      <th>3</th>\n",
       "      <td>Step-up style \"Sorcerer Student Council Gacha\"...</td>\n",
       "      <td>2022</td>\n",
       "      <td>10</td>\n",
       "      <td>14</td>\n",
       "    </tr>\n",
       "    <tr>\n",
       "      <th>4</th>\n",
       "      <td>Nightmare Gacha</td>\n",
       "      <td>2022</td>\n",
       "      <td>10</td>\n",
       "      <td>13</td>\n",
       "    </tr>\n",
       "  </tbody>\n",
       "</table>\n",
       "</div>"
      ],
      "text/plain": [
       "                                          Gacha_Name  Year Month Day\n",
       "0                              Battle on Board Gacha  2022    10  14\n",
       "1                              Heart Labyrinth Gacha  2022    10  14\n",
       "2  Increases MDEF!\"Sorcerer Student Council Gacha...  2022    10  14\n",
       "3  Step-up style \"Sorcerer Student Council Gacha\"...  2022    10  14\n",
       "4                                    Nightmare Gacha  2022    10  13"
      ]
     },
     "execution_count": 13,
     "metadata": {},
     "output_type": "execute_result"
    }
   ],
   "source": [
    "data.head()"
   ]
  },
  {
   "cell_type": "code",
   "execution_count": 14,
   "id": "4a6245a1",
   "metadata": {},
   "outputs": [
    {
     "data": {
      "text/plain": [
       "['「UPDATE 8/26 15:25 (JST)」Win LR Accessory!? \"Traditional Jewelry Gacha\" Arrives!',\n",
       " 'Win LR Accessory!? \"Traditional Jewelry Gacha\" Arrives!',\n",
       " 'Win LR Accessory!? \"Traditional Jewelry Gacha\" Arrives!',\n",
       " 'Win LR Accessory!? \"Traditional Jewelry Gacha\" Arrives!',\n",
       " 'Win LR Accessory!? \"Traditional Jewelry Gacha\" Arrives!',\n",
       " 'LR Accessory G 2021Tix',\n",
       " '【10/22Update】Win LR Accessory!? \"Traditional Jewelry Gacha\" Arrives!',\n",
       " '[8/20 19:20 JST Edit]Win LR Accessory!? \"Traditional Jewelry Gacha\" Arrives!',\n",
       " '【6/28 Edit】Win LR Accessory!? \"Traditional Jewelry Gacha\" Arrives!']"
      ]
     },
     "execution_count": 14,
     "metadata": {},
     "output_type": "execute_result"
    }
   ],
   "source": [
    "# Finding specific banner using name\n",
    "selected = []\n",
    "for i in data['Gacha_Name']:\n",
    "    if 'lr acc' in i.lower():\n",
    "        selected.append(i)\n",
    "        \n",
    "selected"
   ]
  },
  {
   "cell_type": "code",
   "execution_count": 15,
   "id": "127d0f37",
   "metadata": {},
   "outputs": [],
   "source": [
    "# Changing Gacha Name\n",
    "data['Gacha_Name'][152] = \"Win LR Accessory!? \\\"Traditional Jewelry Gacha\\\" Arrives!\""
   ]
  },
  {
   "cell_type": "code",
   "execution_count": 16,
   "id": "9482b9a6",
   "metadata": {},
   "outputs": [
    {
     "data": {
      "text/html": [
       "<div>\n",
       "<style scoped>\n",
       "    .dataframe tbody tr th:only-of-type {\n",
       "        vertical-align: middle;\n",
       "    }\n",
       "\n",
       "    .dataframe tbody tr th {\n",
       "        vertical-align: top;\n",
       "    }\n",
       "\n",
       "    .dataframe thead th {\n",
       "        text-align: right;\n",
       "    }\n",
       "</style>\n",
       "<table border=\"1\" class=\"dataframe\">\n",
       "  <thead>\n",
       "    <tr style=\"text-align: right;\">\n",
       "      <th></th>\n",
       "      <th>Gacha_Name</th>\n",
       "      <th>Year</th>\n",
       "      <th>Month</th>\n",
       "      <th>Day</th>\n",
       "    </tr>\n",
       "  </thead>\n",
       "  <tbody>\n",
       "    <tr>\n",
       "      <th>152</th>\n",
       "      <td>Win LR Accessory!? \"Traditional Jewelry Gacha\"...</td>\n",
       "      <td>2022</td>\n",
       "      <td>08</td>\n",
       "      <td>26</td>\n",
       "    </tr>\n",
       "    <tr>\n",
       "      <th>261</th>\n",
       "      <td>Win LR Accessory!? \"Traditional Jewelry Gacha\"...</td>\n",
       "      <td>2022</td>\n",
       "      <td>06</td>\n",
       "      <td>24</td>\n",
       "    </tr>\n",
       "    <tr>\n",
       "      <th>308</th>\n",
       "      <td>Win LR Accessory!? \"Traditional Jewelry Gacha\"...</td>\n",
       "      <td>2022</td>\n",
       "      <td>04</td>\n",
       "      <td>26</td>\n",
       "    </tr>\n",
       "    <tr>\n",
       "      <th>365</th>\n",
       "      <td>Win LR Accessory!? \"Traditional Jewelry Gacha\"...</td>\n",
       "      <td>2022</td>\n",
       "      <td>02</td>\n",
       "      <td>23</td>\n",
       "    </tr>\n",
       "    <tr>\n",
       "      <th>378</th>\n",
       "      <td>Win LR Accessory!? \"Traditional Jewelry Gacha\"...</td>\n",
       "      <td>2022</td>\n",
       "      <td>01</td>\n",
       "      <td>29</td>\n",
       "    </tr>\n",
       "  </tbody>\n",
       "</table>\n",
       "</div>"
      ],
      "text/plain": [
       "                                            Gacha_Name  Year Month Day\n",
       "152  Win LR Accessory!? \"Traditional Jewelry Gacha\"...  2022    08  26\n",
       "261  Win LR Accessory!? \"Traditional Jewelry Gacha\"...  2022    06  24\n",
       "308  Win LR Accessory!? \"Traditional Jewelry Gacha\"...  2022    04  26\n",
       "365  Win LR Accessory!? \"Traditional Jewelry Gacha\"...  2022    02  23\n",
       "378  Win LR Accessory!? \"Traditional Jewelry Gacha\"...  2022    01  29"
      ]
     },
     "execution_count": 16,
     "metadata": {},
     "output_type": "execute_result"
    }
   ],
   "source": [
    "# Data of selected Gacha\n",
    "data[data['Gacha_Name'] == 'Win LR Accessory!? \"Traditional Jewelry Gacha\" Arrives!']"
   ]
  },
  {
   "cell_type": "code",
   "execution_count": 17,
   "id": "e324fca4",
   "metadata": {},
   "outputs": [],
   "source": [
    "os.chdir(old_path)"
   ]
  },
  {
   "cell_type": "markdown",
   "id": "22ec9005",
   "metadata": {},
   "source": [
    "## Conclusions\n",
    "- Data is not enough for predicting armor gacha\n",
    "- If more data is collected over time then it is possible\n",
    "- LR accessory gacha and some other gachas can be predicted but again data is very low amount"
   ]
  }
 ],
 "metadata": {
  "kernelspec": {
   "display_name": "Python 3 (ipykernel)",
   "language": "python",
   "name": "python3"
  },
  "language_info": {
   "codemirror_mode": {
    "name": "ipython",
    "version": 3
   },
   "file_extension": ".py",
   "mimetype": "text/x-python",
   "name": "python",
   "nbconvert_exporter": "python",
   "pygments_lexer": "ipython3",
   "version": "3.10.6"
  }
 },
 "nbformat": 4,
 "nbformat_minor": 5
}
